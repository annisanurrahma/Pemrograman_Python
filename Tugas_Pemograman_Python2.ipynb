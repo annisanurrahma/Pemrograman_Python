{
  "nbformat": 4,
  "nbformat_minor": 0,
  "metadata": {
    "colab": {
      "name": "Tugas_Pemograman_Python2.ipynb",
      "provenance": [],
      "authorship_tag": "ABX9TyPYu82XM/9F+w0/w7b3nMe9",
      "include_colab_link": true
    },
    "kernelspec": {
      "name": "python3",
      "display_name": "Python 3"
    }
  },
  "cells": [
    {
      "cell_type": "markdown",
      "metadata": {
        "id": "view-in-github",
        "colab_type": "text"
      },
      "source": [
        "<a href=\"https://colab.research.google.com/github/annisanurrahma/Pemrograman_Python/blob/main/Tugas_Pemograman_Python2.ipynb\" target=\"_parent\"><img src=\"https://colab.research.google.com/assets/colab-badge.svg\" alt=\"Open In Colab\"/></a>"
      ]
    },
    {
      "cell_type": "code",
      "metadata": {
        "colab": {
          "base_uri": "https://localhost:8080/"
        },
        "id": "cuuCa6ULy__p",
        "outputId": "b3b37088-6c2e-41c6-ccfc-bd45765742e9"
      },
      "source": [
        "from google.colab import drive\n",
        "drive.mount('/content/drive')"
      ],
      "execution_count": 209,
      "outputs": [
        {
          "output_type": "stream",
          "text": [
            "Drive already mounted at /content/drive; to attempt to forcibly remount, call drive.mount(\"/content/drive\", force_remount=True).\n"
          ],
          "name": "stdout"
        }
      ]
    },
    {
      "cell_type": "code",
      "metadata": {
        "colab": {
          "base_uri": "https://localhost:8080/"
        },
        "id": "0MiQUTNG0e0j",
        "outputId": "31eefdd9-787c-4add-9f29-a3bfc5799fb7"
      },
      "source": [
        "cd /content/drive/MyDrive/Colab Notebooks"
      ],
      "execution_count": 210,
      "outputs": [
        {
          "output_type": "stream",
          "text": [
            "/content/drive/MyDrive/Colab Notebooks\n"
          ],
          "name": "stdout"
        }
      ]
    },
    {
      "cell_type": "code",
      "metadata": {
        "colab": {
          "base_uri": "https://localhost:8080/"
        },
        "id": "otJSB2-W1rQS",
        "outputId": "f164e281-9ac7-4b3b-fd14-5e7602120a96"
      },
      "source": [
        "ls"
      ],
      "execution_count": 211,
      "outputs": [
        {
          "output_type": "stream",
          "text": [
            "\u001b[0m\u001b[01;34mdataset2\u001b[0m/  \u001b[01;34mnndataset\u001b[0m/  Tugas_Pemograman_Python.ipynb  Untitled0.ipynb\n"
          ],
          "name": "stdout"
        }
      ]
    },
    {
      "cell_type": "code",
      "metadata": {
        "id": "kBq5qg6h1w9F"
      },
      "source": [
        "from keras.models import Sequential\n",
        "from keras.layers.core import Activation\n",
        "from keras.layers.core import Flatten\n",
        "from keras.layers.core import Dense\n",
        "from keras.optimizers import Adam\n",
        "from sklearn.preprocessing import LabelBinarizer\n",
        "from sklearn.model_selection import train_test_split\n",
        "from sklearn.metrics import classification_report\n",
        "from PIL import Image\n",
        "from imutils import paths\n",
        "import numpy as np\n",
        "import os "
      ],
      "execution_count": 212,
      "outputs": []
    },
    {
      "cell_type": "code",
      "metadata": {
        "colab": {
          "base_uri": "https://localhost:8080/"
        },
        "id": "GszxA9bW2aNb",
        "outputId": "d2dd74c5-608b-4bcb-fdac-53a99e36d037"
      },
      "source": [
        "print(\"[INFO] Loading Gambar...\")\n",
        "imagePaths = paths.list_images(\"dataset2\")\n",
        "data = []\n",
        "labels = []"
      ],
      "execution_count": 213,
      "outputs": [
        {
          "output_type": "stream",
          "text": [
            "[INFO] Loading Gambar...\n"
          ],
          "name": "stdout"
        }
      ]
    },
    {
      "cell_type": "code",
      "metadata": {
        "id": "GkowAoJf2s3w"
      },
      "source": [
        "for imagePath in imagePaths:\n",
        "  image = Image.open(imagePath)\n",
        "  image = np.array(image.resize((64, 64))) / 255.0\n",
        "  data.append(image)\n",
        "  label = imagePath.split(os.path.sep)[-2]  \n",
        "  labels.append(label)"
      ],
      "execution_count": 214,
      "outputs": []
    },
    {
      "cell_type": "code",
      "metadata": {
        "colab": {
          "base_uri": "https://localhost:8080/"
        },
        "id": "BlEZC4JI2zOT",
        "outputId": "0d12d122-a619-4874-e209-e9922cd29d2c"
      },
      "source": [
        "print(labels)"
      ],
      "execution_count": 215,
      "outputs": [
        {
          "output_type": "stream",
          "text": [
            "['GMB_10', 'GMB_10', 'GMB_10', 'GMB_10', 'GMB_10', 'GMB_10', 'GMB_10', 'GMB_10', 'GMB_10', 'GMB_10', 'GMB_10', 'GMB_10', 'GMB_10', 'GMB_10', 'GMB_10', 'GMB_10', 'GMB_10', 'GMB_10', 'GMB_10', 'GMB_10', 'GMB_10', 'GMB_10', 'GMB_10', 'GMB_10', 'GMB_10', 'GMB_10', 'GMB_10', 'GMB_10', 'GMB_10', 'GMB_10', 'GMB_10', 'GMB_10', 'GMB_10', 'GMB_10', 'GMB_10', 'GMB_10', 'GMB_10', 'GMB_10', 'GMB_10', 'GMB_10', 'GMB_10', 'GMB_10', 'GMB_10', 'GMB_10', 'GMB_10', 'GMB_10', 'GMB_10', 'GMB_10', 'GMB_10', 'GMB_10', 'GMB_10', 'GMB_10', 'GMB_10', 'GMB_10', 'GMB_10', 'GMB_10', 'GMB_10', 'GMB_10', 'GMB_10', 'GMB_10', 'GMB_10', 'GMB_10', 'GMB_10', 'GMB_10', 'GMB_10', 'GMB_10', 'GMB_10', 'GMB_10', 'GMB_10', 'GMB_10', 'GMB_10', 'GMB_10', 'GMB_10', 'GMB_10', 'GMB_10', 'GMB_10', 'GMB_10', 'GMB_10', 'GMB_10', 'GMB_10', 'GMB_10', 'GMB_10', 'GMB_10', 'GMB_10', 'GMB_10', 'GMB_10', 'GMB_10', 'GMB_10', 'GMB_10', 'GMB_10', 'GMB_10', 'GMB_10', 'GMB_10', 'GMB_10', 'GMB_10', 'GMB_10', 'GMB_10', 'GMB_10', 'GMB_10', 'GMB_10', 'GMB_10', 'GMB_10', 'GMB_10', 'GMB_10', 'GMB_10', 'GMB_10', 'GMB_10', 'GMB_10', 'GMB_10', 'GMB_10', 'GMB_10', 'GMB_10', 'GMB_10', 'GMB_10', 'GMB_09', 'GMB_09', 'GMB_09', 'GMB_09', 'GMB_09', 'GMB_09', 'GMB_09', 'GMB_09', 'GMB_09', 'GMB_09', 'GMB_09', 'GMB_09', 'GMB_09', 'GMB_09', 'GMB_09', 'GMB_09', 'GMB_09', 'GMB_09', 'GMB_09', 'GMB_09', 'GMB_09', 'GMB_09', 'GMB_09', 'GMB_09', 'GMB_09', 'GMB_09', 'GMB_09', 'GMB_09', 'GMB_09', 'GMB_09', 'GMB_09', 'GMB_09', 'GMB_09', 'GMB_09', 'GMB_09', 'GMB_09', 'GMB_09', 'GMB_09', 'GMB_09', 'GMB_09', 'GMB_09', 'GMB_09', 'GMB_09', 'GMB_09', 'GMB_09', 'GMB_09', 'GMB_09', 'GMB_09', 'GMB_09', 'GMB_09', 'GMB_09', 'GMB_09', 'GMB_09', 'GMB_09', 'GMB_09', 'GMB_09', 'GMB_09', 'GMB_09', 'GMB_09', 'GMB_09', 'GMB_09', 'GMB_09', 'GMB_09', 'GMB_09', 'GMB_09', 'GMB_09', 'GMB_09', 'GMB_09', 'GMB_09', 'GMB_09', 'GMB_09', 'GMB_09', 'GMB_09', 'GMB_09', 'GMB_09', 'GMB_09', 'GMB_09', 'GMB_09', 'GMB_09', 'GMB_09', 'GMB_09', 'GMB_09', 'GMB_09', 'GMB_09', 'GMB_09', 'GMB_09', 'GMB_09', 'GMB_09', 'GMB_09', 'GMB_09', 'GMB_09', 'GMB_09', 'GMB_09', 'GMB_09', 'GMB_09', 'GMB_09', 'GMB_09', 'GMB_09', 'GMB_09', 'GMB_09', 'GMB_09', 'GMB_09', 'GMB_09', 'GMB_09', 'GMB_09', 'GMB_09', 'GMB_09', 'GMB_09', 'GMB_09', 'GMB_09', 'GMB_09', 'GMB_09', 'GMB_09', 'GMB_09', 'GMB_09', 'GMB_06', 'GMB_06', 'GMB_06', 'GMB_06', 'GMB_06', 'GMB_06', 'GMB_06', 'GMB_06', 'GMB_06', 'GMB_06', 'GMB_06', 'GMB_06', 'GMB_06', 'GMB_06', 'GMB_06', 'GMB_06', 'GMB_06', 'GMB_06', 'GMB_06', 'GMB_06', 'GMB_06', 'GMB_06', 'GMB_06', 'GMB_06', 'GMB_06', 'GMB_06', 'GMB_06', 'GMB_06', 'GMB_06', 'GMB_06', 'GMB_06', 'GMB_06', 'GMB_06', 'GMB_06', 'GMB_06', 'GMB_06', 'GMB_06', 'GMB_06', 'GMB_06', 'GMB_06', 'GMB_06', 'GMB_06', 'GMB_06', 'GMB_06', 'GMB_06', 'GMB_06', 'GMB_06', 'GMB_06', 'GMB_06', 'GMB_06', 'GMB_06', 'GMB_06', 'GMB_06', 'GMB_06', 'GMB_06', 'GMB_06', 'GMB_06', 'GMB_06', 'GMB_06', 'GMB_06', 'GMB_06', 'GMB_06', 'GMB_06', 'GMB_06', 'GMB_06', 'GMB_06', 'GMB_06', 'GMB_06', 'GMB_06', 'GMB_06', 'GMB_06', 'GMB_06', 'GMB_06', 'GMB_06', 'GMB_06', 'GMB_06', 'GMB_06', 'GMB_06', 'GMB_06', 'GMB_06', 'GMB_06', 'GMB_06', 'GMB_06', 'GMB_06', 'GMB_06', 'GMB_06', 'GMB_06', 'GMB_06', 'GMB_06', 'GMB_06', 'GMB_06', 'GMB_06', 'GMB_06', 'GMB_06', 'GMB_06', 'GMB_06', 'GMB_06', 'GMB_06', 'GMB_06', 'GMB_06', 'GMB_06', 'GMB_06', 'GMB_06', 'GMB_06', 'GMB_06', 'GMB_06', 'GMB_06', 'GMB_06', 'GMB_06', 'GMB_06', 'GMB_06', 'GMB_06', 'GMB_06', 'GMB_06', 'GMB_06', 'GMB_06', 'GMB_06', 'GMB_06', 'GMB_06', 'GMB_06', 'GMB_06', 'GMB_05', 'GMB_05', 'GMB_05', 'GMB_05', 'GMB_05', 'GMB_05', 'GMB_05', 'GMB_05', 'GMB_05', 'GMB_05', 'GMB_05', 'GMB_05', 'GMB_05', 'GMB_05', 'GMB_05', 'GMB_05', 'GMB_05', 'GMB_05', 'GMB_05', 'GMB_05', 'GMB_05', 'GMB_05', 'GMB_05', 'GMB_05', 'GMB_05', 'GMB_05', 'GMB_05', 'GMB_05', 'GMB_05', 'GMB_05', 'GMB_05', 'GMB_05', 'GMB_05', 'GMB_05', 'GMB_05', 'GMB_05', 'GMB_05', 'GMB_05', 'GMB_05', 'GMB_05', 'GMB_05', 'GMB_05', 'GMB_05', 'GMB_05', 'GMB_05', 'GMB_05', 'GMB_05', 'GMB_05', 'GMB_05', 'GMB_05', 'GMB_05', 'GMB_05', 'GMB_05', 'GMB_05', 'GMB_05', 'GMB_05', 'GMB_05', 'GMB_05', 'GMB_05', 'GMB_05', 'GMB_05', 'GMB_05', 'GMB_05', 'GMB_05', 'GMB_05', 'GMB_05', 'GMB_05', 'GMB_05', 'GMB_05', 'GMB_05', 'GMB_05', 'GMB_05', 'GMB_05', 'GMB_05', 'GMB_05', 'GMB_05', 'GMB_05', 'GMB_05', 'GMB_05', 'GMB_05', 'GMB_05', 'GMB_05', 'GMB_05', 'GMB_05', 'GMB_05', 'GMB_05', 'GMB_05', 'GMB_05', 'GMB_05', 'GMB_05', 'GMB_05', 'GMB_05', 'GMB_05', 'GMB_05', 'GMB_05', 'GMB_05', 'GMB_05', 'GMB_05', 'GMB_05', 'GMB_05', 'GMB_05', 'GMB_05', 'GMB_05', 'GMB_05', 'GMB_05', 'GMB_05', 'GMB_05', 'GMB_05', 'GMB_05', 'GMB_05', 'GMB_05', 'GMB_05', 'GMB_05', 'GMB_05', 'GMB_05', 'GMB_05', 'GMB_05', 'GMB_05', 'GMB_05', 'GMB_05', 'GMB_05', 'GMB_01', 'GMB_01', 'GMB_01', 'GMB_01', 'GMB_01', 'GMB_01', 'GMB_01', 'GMB_01', 'GMB_01', 'GMB_01', 'GMB_01', 'GMB_01', 'GMB_01', 'GMB_01', 'GMB_01', 'GMB_01', 'GMB_01', 'GMB_01', 'GMB_01', 'GMB_01', 'GMB_01', 'GMB_01', 'GMB_01', 'GMB_01', 'GMB_01', 'GMB_01', 'GMB_01', 'GMB_01', 'GMB_01', 'GMB_01', 'GMB_01', 'GMB_01', 'GMB_01', 'GMB_01', 'GMB_01', 'GMB_01', 'GMB_01', 'GMB_01', 'GMB_01', 'GMB_01', 'GMB_01', 'GMB_01', 'GMB_01', 'GMB_01', 'GMB_01', 'GMB_01', 'GMB_01', 'GMB_01', 'GMB_01', 'GMB_01', 'GMB_01', 'GMB_01', 'GMB_01', 'GMB_01', 'GMB_01', 'GMB_01', 'GMB_01', 'GMB_01', 'GMB_01', 'GMB_01', 'GMB_01', 'GMB_01', 'GMB_01', 'GMB_01', 'GMB_01', 'GMB_01', 'GMB_01', 'GMB_01', 'GMB_01', 'GMB_01', 'GMB_01', 'GMB_01', 'GMB_01', 'GMB_01', 'GMB_01', 'GMB_01', 'GMB_01', 'GMB_01', 'GMB_01', 'GMB_01', 'GMB_01', 'GMB_01', 'GMB_01', 'GMB_01', 'GMB_01', 'GMB_01', 'GMB_01', 'GMB_01', 'GMB_01', 'GMB_01', 'GMB_01', 'GMB_01', 'GMB_01', 'GMB_01', 'GMB_01', 'GMB_01', 'GMB_01', 'GMB_01', 'GMB_01', 'GMB_01', 'GMB_01', 'GMB_01', 'GMB_01', 'GMB_01', 'GMB_01', 'GMB_01', 'GMB_01', 'GMB_01', 'GMB_01', 'GMB_01', 'GMB_01', 'GMB_01', 'GMB_01', 'GMB_01', 'GMB_01', 'GMB_01']\n"
          ],
          "name": "stdout"
        }
      ]
    },
    {
      "cell_type": "code",
      "metadata": {
        "id": "ERsmdMufIqR0"
      },
      "source": [
        "lb = LabelBinarizer()\n",
        "labels  = lb.fit_transform(labels)"
      ],
      "execution_count": 216,
      "outputs": []
    },
    {
      "cell_type": "code",
      "metadata": {
        "colab": {
          "base_uri": "https://localhost:8080/"
        },
        "id": "_qe5-gb2Ixyz",
        "outputId": "02c3bf22-15e5-49a4-bfeb-1468c01f416b"
      },
      "source": [
        "print(labels)"
      ],
      "execution_count": 217,
      "outputs": [
        {
          "output_type": "stream",
          "text": [
            "[[0 0 0 0 1]\n",
            " [0 0 0 0 1]\n",
            " [0 0 0 0 1]\n",
            " ...\n",
            " [1 0 0 0 0]\n",
            " [1 0 0 0 0]\n",
            " [1 0 0 0 0]]\n"
          ],
          "name": "stdout"
        }
      ]
    },
    {
      "cell_type": "code",
      "metadata": {
        "colab": {
          "base_uri": "https://localhost:8080/"
        },
        "id": "FxxGXWoUI1kQ",
        "outputId": "75eb140b-723b-4cea-d97e-fff91a44eb7f"
      },
      "source": [
        "(trainX, testX, trainY,  testY) = train_test_split(np.array(data), np.array(labels), test_size=0.25, shuffle=True)\n",
        "print(trainX.shape)\n",
        "print(testX.shape)"
      ],
      "execution_count": 218,
      "outputs": [
        {
          "output_type": "stream",
          "text": [
            "(440, 64, 64, 3)\n",
            "(147, 64, 64, 3)\n"
          ],
          "name": "stdout"
        }
      ]
    },
    {
      "cell_type": "code",
      "metadata": {
        "colab": {
          "base_uri": "https://localhost:8080/"
        },
        "id": "zHjEpR-5I5C3",
        "outputId": "2e6337dd-6679-4e37-a92e-9386845fcd44"
      },
      "source": [
        "from keras.layers import Convolution2D, MaxPooling2D\n",
        "from keras.models import Sequential\n",
        "from keras.layers.core import Flatten, Dense\n",
        "\n",
        "model1 = Sequential()\n",
        "model1.add(Convolution2D(16,1,1, activation='relu', input_shape=(64,64,3)))\n",
        "model1.add(MaxPooling2D(2,2))\n",
        "model1.add(Convolution2D(32,1,1, activation='relu'))\n",
        "model1.add(MaxPooling2D(2,2))\n",
        "#fully connected layer\n",
        "model1.add(Flatten())\n",
        "model1.add(Dense(100, activation='relu'))\n",
        "model1.add(Dense(5, activation='softmax'))\n",
        "\n",
        "model1.summary()"
      ],
      "execution_count": 219,
      "outputs": [
        {
          "output_type": "stream",
          "text": [
            "Model: \"sequential_22\"\n",
            "_________________________________________________________________\n",
            "Layer (type)                 Output Shape              Param #   \n",
            "=================================================================\n",
            "conv2d_44 (Conv2D)           (None, 64, 64, 16)        64        \n",
            "_________________________________________________________________\n",
            "max_pooling2d_44 (MaxPooling (None, 32, 32, 16)        0         \n",
            "_________________________________________________________________\n",
            "conv2d_45 (Conv2D)           (None, 32, 32, 32)        544       \n",
            "_________________________________________________________________\n",
            "max_pooling2d_45 (MaxPooling (None, 16, 16, 32)        0         \n",
            "_________________________________________________________________\n",
            "flatten_22 (Flatten)         (None, 8192)              0         \n",
            "_________________________________________________________________\n",
            "dense_44 (Dense)             (None, 100)               819300    \n",
            "_________________________________________________________________\n",
            "dense_45 (Dense)             (None, 5)                 505       \n",
            "=================================================================\n",
            "Total params: 820,413\n",
            "Trainable params: 820,413\n",
            "Non-trainable params: 0\n",
            "_________________________________________________________________\n"
          ],
          "name": "stdout"
        }
      ]
    },
    {
      "cell_type": "code",
      "metadata": {
        "colab": {
          "base_uri": "https://localhost:8080/"
        },
        "id": "YnDUd45-I-lR",
        "outputId": "f4116a85-a868-4ff9-e370-87e1362c4c48"
      },
      "source": [
        "print(\"[INFO] training network...\")\n",
        "opt = Adam(lr=1e-3, decay=1e-3 / 50)\n",
        "model1.compile(loss=\"categorical_crossentropy\", optimizer=opt, metrics=[\"accuracy\"])\n",
        "H = model1.fit(trainX, trainY, validation_data=(testX, testY), epochs=25, batch_size=32)"
      ],
      "execution_count": 225,
      "outputs": [
        {
          "output_type": "stream",
          "text": [
            "[INFO] training network...\n",
            "Epoch 1/25\n",
            "14/14 [==============================] - 1s 54ms/step - loss: 0.6536 - accuracy: 0.7523 - val_loss: 0.7606 - val_accuracy: 0.6735\n",
            "Epoch 2/25\n",
            "14/14 [==============================] - 1s 45ms/step - loss: 0.6552 - accuracy: 0.7386 - val_loss: 0.8187 - val_accuracy: 0.6871\n",
            "Epoch 3/25\n",
            "14/14 [==============================] - 1s 46ms/step - loss: 0.6343 - accuracy: 0.7818 - val_loss: 0.6695 - val_accuracy: 0.7415\n",
            "Epoch 4/25\n",
            "14/14 [==============================] - 1s 45ms/step - loss: 0.6320 - accuracy: 0.7705 - val_loss: 0.7421 - val_accuracy: 0.7211\n",
            "Epoch 5/25\n",
            "14/14 [==============================] - 1s 45ms/step - loss: 0.5802 - accuracy: 0.7773 - val_loss: 0.6834 - val_accuracy: 0.7551\n",
            "Epoch 6/25\n",
            "14/14 [==============================] - 1s 45ms/step - loss: 0.5409 - accuracy: 0.7773 - val_loss: 0.6616 - val_accuracy: 0.7415\n",
            "Epoch 7/25\n",
            "14/14 [==============================] - 1s 46ms/step - loss: 0.5240 - accuracy: 0.8000 - val_loss: 0.6568 - val_accuracy: 0.7619\n",
            "Epoch 8/25\n",
            "14/14 [==============================] - 1s 45ms/step - loss: 0.4996 - accuracy: 0.8295 - val_loss: 0.6719 - val_accuracy: 0.7687\n",
            "Epoch 9/25\n",
            "14/14 [==============================] - 1s 45ms/step - loss: 0.4939 - accuracy: 0.8227 - val_loss: 0.7260 - val_accuracy: 0.7347\n",
            "Epoch 10/25\n",
            "14/14 [==============================] - 1s 46ms/step - loss: 0.5035 - accuracy: 0.8023 - val_loss: 0.6956 - val_accuracy: 0.7619\n",
            "Epoch 11/25\n",
            "14/14 [==============================] - 1s 44ms/step - loss: 0.4692 - accuracy: 0.8364 - val_loss: 0.6682 - val_accuracy: 0.7687\n",
            "Epoch 12/25\n",
            "14/14 [==============================] - 1s 44ms/step - loss: 0.4711 - accuracy: 0.8182 - val_loss: 0.6987 - val_accuracy: 0.7823\n",
            "Epoch 13/25\n",
            "14/14 [==============================] - 1s 45ms/step - loss: 0.4502 - accuracy: 0.8364 - val_loss: 0.6464 - val_accuracy: 0.7755\n",
            "Epoch 14/25\n",
            "14/14 [==============================] - 1s 45ms/step - loss: 0.4289 - accuracy: 0.8432 - val_loss: 0.6180 - val_accuracy: 0.7551\n",
            "Epoch 15/25\n",
            "14/14 [==============================] - 1s 46ms/step - loss: 0.3990 - accuracy: 0.8682 - val_loss: 0.6399 - val_accuracy: 0.7823\n",
            "Epoch 16/25\n",
            "14/14 [==============================] - 1s 45ms/step - loss: 0.3982 - accuracy: 0.8750 - val_loss: 0.6747 - val_accuracy: 0.7687\n",
            "Epoch 17/25\n",
            "14/14 [==============================] - 1s 45ms/step - loss: 0.3833 - accuracy: 0.8818 - val_loss: 0.6138 - val_accuracy: 0.7687\n",
            "Epoch 18/25\n",
            "14/14 [==============================] - 1s 45ms/step - loss: 0.3764 - accuracy: 0.8500 - val_loss: 0.6441 - val_accuracy: 0.7483\n",
            "Epoch 19/25\n",
            "14/14 [==============================] - 1s 46ms/step - loss: 0.4085 - accuracy: 0.8500 - val_loss: 0.6515 - val_accuracy: 0.7687\n",
            "Epoch 20/25\n",
            "14/14 [==============================] - 1s 44ms/step - loss: 0.3769 - accuracy: 0.8909 - val_loss: 0.6545 - val_accuracy: 0.7755\n",
            "Epoch 21/25\n",
            "14/14 [==============================] - 1s 46ms/step - loss: 0.3849 - accuracy: 0.8773 - val_loss: 0.6510 - val_accuracy: 0.7891\n",
            "Epoch 22/25\n",
            "14/14 [==============================] - 1s 46ms/step - loss: 0.3427 - accuracy: 0.9045 - val_loss: 0.6257 - val_accuracy: 0.7823\n",
            "Epoch 23/25\n",
            "14/14 [==============================] - 1s 45ms/step - loss: 0.3461 - accuracy: 0.8864 - val_loss: 0.5987 - val_accuracy: 0.8095\n",
            "Epoch 24/25\n",
            "14/14 [==============================] - 1s 45ms/step - loss: 0.3202 - accuracy: 0.8955 - val_loss: 0.6376 - val_accuracy: 0.7551\n",
            "Epoch 25/25\n",
            "14/14 [==============================] - 1s 45ms/step - loss: 0.3011 - accuracy: 0.9091 - val_loss: 0.5913 - val_accuracy: 0.8435\n"
          ],
          "name": "stdout"
        }
      ]
    },
    {
      "cell_type": "code",
      "metadata": {
        "colab": {
          "base_uri": "https://localhost:8080/",
          "height": 590
        },
        "id": "shOfZhvLJDIk",
        "outputId": "bd37f720-24d4-471c-9185-a78ace7f567a"
      },
      "source": [
        "import matplotlib.pyplot as plt\n",
        "\n",
        "print(H.history.keys())\n",
        "# summarize history for accuracy\n",
        "plt.plot(H.history['accuracy'])\n",
        "plt.plot(H.history['val_accuracy'])\n",
        "plt.title('model accuracy')\n",
        "plt.ylabel('accuracy')\n",
        "plt.xlabel('epoch')\n",
        "plt.legend(['train', 'test'], loc='upper left')\n",
        "plt.show()\n",
        "# summarize history for loss\n",
        "plt.plot(H.history['loss'])\n",
        "plt.plot(H.history['val_loss'])\n",
        "plt.title('model loss')\n",
        "plt.ylabel('loss')\n",
        "plt.xlabel('epoch')\n",
        "plt.legend(['train', 'test'], loc='upper left')\n",
        "plt.show()"
      ],
      "execution_count": 226,
      "outputs": [
        {
          "output_type": "stream",
          "text": [
            "dict_keys(['loss', 'accuracy', 'val_loss', 'val_accuracy'])\n"
          ],
          "name": "stdout"
        },
        {
          "output_type": "display_data",
          "data": {
            "image/png": "[encoded data removed]",
            "text/plain": [
              "<Figure size 432x288 with 1 Axes>"
            ]
          },
          "metadata": {
            "tags": [],
            "needs_background": "light"
          }
        },
        {
          "output_type": "display_data",
          "data": {
            "image/png": "[encoded data removed]",
            "text/plain": [
              "<Figure size 432x288 with 1 Axes>"
            ]
          },
          "metadata": {
            "tags": [],
            "needs_background": "light"
          }
        }
      ]
    },
    {
      "cell_type": "code",
      "metadata": {
        "colab": {
          "base_uri": "https://localhost:8080/"
        },
        "id": "__afqXLYJLE1",
        "outputId": "344ea2aa-d2c2-4ad2-f45e-b1093e518724"
      },
      "source": [
        "print(\"[INFO] evaluating network...\")\n",
        "predictions = model1.predict(testX, batch_size=32)\n",
        "print(classification_report(testY.argmax(axis=1),\n",
        "\tpredictions.argmax(axis=1), target_names=lb.classes_))"
      ],
      "execution_count": 227,
      "outputs": [
        {
          "output_type": "stream",
          "text": [
            "[INFO] evaluating network...\n",
            "              precision    recall  f1-score   support\n",
            "\n",
            "      GMB_01       0.82      0.88      0.85        26\n",
            "      GMB_05       0.79      0.90      0.84        30\n",
            "      GMB_06       0.89      0.81      0.85        31\n",
            "      GMB_09       0.87      0.87      0.87        31\n",
            "      GMB_10       0.85      0.76      0.80        29\n",
            "\n",
            "    accuracy                           0.84       147\n",
            "   macro avg       0.85      0.84      0.84       147\n",
            "weighted avg       0.85      0.84      0.84       147\n",
            "\n"
          ],
          "name": "stdout"
        }
      ]
    },
    {
      "cell_type": "code",
      "metadata": {
        "colab": {
          "base_uri": "https://localhost:8080/"
        },
        "id": "rJaiTOAmJO_5",
        "outputId": "f07c0d1e-9f03-4490-d876-f6ff954dcff0"
      },
      "source": [
        "model1.save('nndataset')"
      ],
      "execution_count": 228,
      "outputs": [
        {
          "output_type": "stream",
          "text": [
            "INFO:tensorflow:Assets written to: nndataset/assets\n"
          ],
          "name": "stdout"
        }
      ]
    }
  ]
}